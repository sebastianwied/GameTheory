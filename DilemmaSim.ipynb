{
 "cells": [
  {
   "cell_type": "code",
   "execution_count": 1,
   "id": "fadc6fc2-dfe2-42d5-8fcb-a4fd43c9e4cb",
   "metadata": {},
   "outputs": [],
   "source": [
    "import matplotlib.pyplot as plt\n",
    "import numpy as np\n",
    "import numpy.random as random\n",
    "import math\n",
    "from agents import *"
   ]
  },
  {
   "cell_type": "code",
   "execution_count": 2,
   "id": "cc0973cb-414d-4937-8b81-96cbfd7418b1",
   "metadata": {},
   "outputs": [],
   "source": [
    "class Arbiter:\n",
    "    '''\n",
    "    Manage running tournament. Base class. \n",
    "    Inherited, inheriting class defines how games are decided.\n",
    "    Inheriting class also decides how the agent array is created. Agent array needs to be created at initialization\n",
    "    '''\n",
    "\n",
    "    def manageTournament(self, Nrounds):\n",
    "        for _ in range(Nrounds):\n",
    "            self.manageRound(self.generateRound())\n",
    "\n",
    "    def manageRound(self, games):\n",
    "        '''\n",
    "        games: Array of 2-long arrays of matchups\n",
    "        scores array: row is agent, column is opponent\n",
    "        '''\n",
    "        scores = np.zeros((len(self.agents),len(self.agents)))\n",
    "        for game in games:\n",
    "            a1, a2 = game[0], game[1]\n",
    "            a1score, a2score = playNIterations(self.agents[a1],self.agents[a2], self.iters)\n",
    "            scores[game[0], game[1]] += a1score\n",
    "            scores[game[1], game[0]] += a2score\n",
    "        self.score += scores"
   ]
  },
  {
   "cell_type": "code",
   "execution_count": null,
   "id": "7824b3c0-51df-472c-8d71-b9735b1bcd8f",
   "metadata": {},
   "outputs": [],
   "source": [
    "class RoundRobinArbiter(Arbiter):\n",
    "    def __init__(self, iterations, agents):\n",
    "        self.iters = iterations\n",
    "        self.agents = agents # 1d list of agents\n",
    "        # Scores array: scores row i column j is score of agent i against agent j\n",
    "        self.scores = np.zeros((len(self.agents), len(self.agents)))\n",
    "    \n",
    "    def displayScores(self):\n",
    "        '''\n",
    "        print 2d grid for 1d agents. Antisymmetric graph visualization\n",
    "        '''\n",
    "        fig, ax = plt.subplots(figsize=(10,10))\n",
    "        plt.imshow(self.score,cmap='plasma')\n",
    "        plt.colorbar()\n",
    "        plt.xlabel('agent')\n",
    "        plt.ylabel('opponent')\n",
    "        for x in range(self.score.shape[0]):\n",
    "            for y in range(self.score.shape[1]):\n",
    "                label = f'{self.agents[y]}({y}) vs {self.agents[x]}({x})\\n{self.adjMat[y,x]:0.3f}'\n",
    "                text = ax.text(x, y, label, ha=\"center\", va=\"center\", color=\"k\", rotation=-45)"
   ]
  },
  {
   "cell_type": "code",
   "execution_count": 4,
   "id": "8a1540a9-f9f6-41cf-afbd-d20908c62219",
   "metadata": {},
   "outputs": [],
   "source": [
    "class NetworkArbiter(Arbiter):\n",
    "    '''\n",
    "    For managing network based interaction. Adjacency table is 2d\n",
    "    '''\n",
    "    def __init__(self, iterations, agents):\n",
    "        self.iters = iterations # integer\n",
    "        self.agents = agents # 1d list of agents\n",
    "        self.score = np.zeros((len(self.agents), len(self.agents)))\n",
    "    \n",
    "    def constructTable(self):\n",
    "        '''\n",
    "        Builds adjacency table by generating random probability vectors for each agent\n",
    "        '''\n",
    "        N = len(self.agents)\n",
    "        adjMat = (np.ones((N,N)) - np.eye(N)) / (N-1)\n",
    "        for n in range(N): # Probablity of interacting with every other agent\n",
    "            randomVec = random.rand(N - 1)\n",
    "            probVec = randomVec / np.sum(randomVec)\n",
    "            adjMat[0:n,n] = probVec[:n]\n",
    "            adjMat[n+1:,n] = probVec[n:]\n",
    "        self.adjMat = adjMat\n",
    "\n",
    "    def generateRound(self):\n",
    "        playersLeft = set(range(len(self.agents))) # Players 0-n set\n",
    "        playersSeen = set()\n",
    "        games = []\n",
    "        adjMat = self.adjMat # Copied because table is adjusted\n",
    "        while len(playersLeft) > 1:\n",
    "            # Choose first agent and track that agent has been seen\n",
    "            player = random.choice(list(playersLeft))\n",
    "            playersLeft.remove(player)\n",
    "            playersSeen.add(player)\n",
    "            # First agent interaction weights.\n",
    "            # Set probability of interacting with already taken agents to 0\n",
    "            weights = np.delete(adjMat[:,player], list(playersSeen))\n",
    "            weights /= np.sum(weights)\n",
    "            # Choose opponent\n",
    "            opponent = random.choice(list(playersLeft), p=weights)\n",
    "            playersLeft.remove(opponent)\n",
    "            playersSeen.add(opponent)\n",
    "            games.append(np.array([player, opponent]))\n",
    "        return games\n",
    "\n",
    "    def displayAdjMat(self):\n",
    "        np.set_printoptions(formatter={'float': lambda x: \"{0:0.3f}\".format(x)})\n",
    "        display(self.adjMat)"
   ]
  },
  {
   "cell_type": "code",
   "execution_count": 5,
   "id": "727e9b65-5a80-4a74-8737-375cecb201ee",
   "metadata": {},
   "outputs": [
    {
     "data": {
      "text/plain": [
       "array([[0.000, 0.040, 0.031, 0.225, 0.231, 0.055, 0.086, 0.163],\n",
       "       [0.207, 0.000, 0.071, 0.004, 0.005, 0.264, 0.247, 0.147],\n",
       "       [0.031, 0.087, 0.000, 0.197, 0.187, 0.114, 0.164, 0.103],\n",
       "       [0.075, 0.116, 0.223, 0.000, 0.127, 0.270, 0.222, 0.045],\n",
       "       [0.183, 0.093, 0.185, 0.065, 0.000, 0.069, 0.203, 0.239],\n",
       "       [0.354, 0.213, 0.163, 0.172, 0.187, 0.000, 0.053, 0.239],\n",
       "       [0.115, 0.224, 0.092, 0.147, 0.130, 0.119, 0.000, 0.064],\n",
       "       [0.036, 0.226, 0.235, 0.190, 0.134, 0.110, 0.026, 0.000]])"
      ]
     },
     "metadata": {},
     "output_type": "display_data"
    },
    {
     "ename": "AttributeError",
     "evalue": "'NetworkArbiter' object has no attribute 'displayScores'",
     "output_type": "error",
     "traceback": [
      "\u001b[0;31m---------------------------------------------------------------------------\u001b[0m",
      "\u001b[0;31mAttributeError\u001b[0m                            Traceback (most recent call last)",
      "Cell \u001b[0;32mIn[5], line 6\u001b[0m\n\u001b[1;32m      4\u001b[0m \u001b[38;5;66;03m#net.scores = net.score / net.adjMat\u001b[39;00m\n\u001b[1;32m      5\u001b[0m net\u001b[38;5;241m.\u001b[39mdisplayAdjMat()\n\u001b[0;32m----> 6\u001b[0m net\u001b[38;5;241m.\u001b[39mdisplayScores()\n",
      "\u001b[0;31mAttributeError\u001b[0m: 'NetworkArbiter' object has no attribute 'displayScores'"
     ]
    }
   ],
   "source": [
    "net = NetworkArbiter(10, [Du(), Du(), TFT(), TFT(), Du(), Du(), TFT(), TFT()])\n",
    "net.constructTable()\n",
    "net.manageTournament(100)\n",
    "#net.scores = net.score / net.adjMat\n",
    "net.displayAdjMat()\n",
    "net.displayScores()"
   ]
  },
  {
   "cell_type": "code",
   "execution_count": 29,
   "id": "e5644b77-98e4-4895-b1d9-9c277364eda6",
   "metadata": {},
   "outputs": [],
   "source": [
    "class GridArbiter(Arbiter):\n",
    "    '''\n",
    "    For managing grid based tournaments\n",
    "    '''\n",
    "    def __init__(self, iterations, agents):\n",
    "        self.iters = iterations\n",
    "        self.agents = agents # 2d grid of agents\n",
    "        self.score = np.zeros(agents.shape)\n",
    "        self.buildAdjMat()\n",
    "\n",
    "    def buildAdjMat(self):\n",
    "        '''\n",
    "        Creates a 4d adjacency table. two of the dimensions represent the agents,\n",
    "        and each cell in these two dimensions holds a 2d adjacency grid holding \n",
    "        their interactions with the rest of the agents\n",
    "        '''\n",
    "        N = len(self.agents)\n",
    "        adjacencies = []\n",
    "        for idr, row in enumerate(self.agents):\n",
    "            entry = []\n",
    "            for idc, agent in enumerate(row):\n",
    "                # neighbor bounds.\n",
    "                # Change max/min to make it toroidal.\n",
    "                xBounds = (max(0,idc-1), min(idc+1,N-1))\n",
    "                yBounds = (max(0,idr-1), min(idr+1,N-1))\n",
    "                adjTable = np.zeros((N,N))\n",
    "                adjTable[yBounds[0]:yBounds[1]+1, xBounds[0]:xBounds[1]+1] = np.ones((yBounds[1]+1-yBounds[0],xBounds[1]+1-xBounds[0]))\n",
    "                adjTable[idr, idc] = 0\n",
    "                adjTable /= (((xBounds[1]+1)-xBounds[0])*((yBounds[1]+1)-yBounds[0])) - 1 # number of neighbors\n",
    "                entry.append(adjTable.tolist())\n",
    "            adjacencies.append(entry)\n",
    "        adjacencies = np.array(adjacencies)\n",
    "        np.set_printoptions(formatter={'float': lambda x: \"{0:0.2f}\".format(x)})\n",
    "        self.adjacencies = adjacencies\n",
    "\n",
    "    def generateRound(self):\n",
    "        '''\n",
    "        Generate single tournament round\n",
    "        '''\n",
    "        Y, X = len(self.agents), len(self.agents[0])\n",
    "        N = X*Y\n",
    "        dummylist = list(range(N))\n",
    "        players = set(list(range(N)))\n",
    "        seen = set()\n",
    "        games = []\n",
    "        while players:\n",
    "            player = random.choice(list(players))\n",
    "            players.remove(player)\n",
    "            seen.add(player)\n",
    "            x, y = player % X, player // Y\n",
    "            table = self.adjacencies[y,x].flatten()\n",
    "            for agent in seen:\n",
    "                table[agent] = 0\n",
    "            table = np.ceil(table)\n",
    "            if sum(table) == 0: continue\n",
    "            table /= sum(table)\n",
    "            choice = random.choice(dummylist, p=table)\n",
    "            seen.add(choice)\n",
    "            players.remove(choice)\n",
    "            games.append([player, choice])\n",
    "        return games\n",
    "\n",
    "    def manageTournament(self, rounds):\n",
    "        Y, X= len(self.agents), len(self.agents[0])\n",
    "        scores = np.zeros((Y,X))\n",
    "        for _ in range(rounds):\n",
    "            games = self.generateRound()\n",
    "            print(games)\n",
    "            for game in games:\n",
    "                p1x, p1y = game[0] % X, game[0] // Y\n",
    "                p2x, p2y = game[1] % X, game[1] // Y\n",
    "                a1 = self.agents[p1y, p1x]\n",
    "                a2 = self.agents[p2y, p2x]\n",
    "                a1score, a2score = playNIterations(a1, a2, self.iters)\n",
    "                scores[p1y, p1x] += a1score\n",
    "                scores[p2y, p2x] += a2score\n",
    "        print(scores)"
   ]
  },
  {
   "cell_type": "code",
   "execution_count": 30,
   "id": "bf392b61-07f0-43c7-9d96-a3c5fcdcd890",
   "metadata": {},
   "outputs": [
    {
     "name": "stdout",
     "output_type": "stream",
     "text": [
      "[[6, 2], [13, 12], [3, 7], [15, 14], [0, 5], [11, 10], [1, 4], [9, 8]]\n",
      "[[14.00 10.00 14.00 14.00]\n",
      " [10.00 9.00 9.00 9.00]\n",
      " [14.00 9.00 30.00 30.00]\n",
      " [14.00 9.00 30.00 30.00]]\n"
     ]
    }
   ],
   "source": [
    "agents = np.array(\n",
    "    [[Du(), Du(), Du(), Du()],\n",
    "    [Du(), TFT(), TFT(), TFT()],\n",
    "    [Du(), TFT(), TFT(), TFT()],\n",
    "    [Du(), TFT(), TFT(), Cu()]]\n",
    ")\n",
    "grid = GridArbiter(10, agents)\n",
    "grid.generateRound()\n",
    "grid.manageTournament(1)"
   ]
  },
  {
   "cell_type": "code",
   "execution_count": 23,
   "id": "9667a70b-702a-45cd-a2fd-334dad27a269",
   "metadata": {},
   "outputs": [
    {
     "name": "stdout",
     "output_type": "stream",
     "text": [
      "[[0.00 0.00 0.00]\n",
      " [0.00 0.00 0.00]]\n"
     ]
    }
   ],
   "source": [
    "print(np.zeros((2,3)))"
   ]
  },
  {
   "cell_type": "code",
   "execution_count": null,
   "id": "7efc5c49-3c1b-4629-8851-42239608ce45",
   "metadata": {},
   "outputs": [],
   "source": []
  }
 ],
 "metadata": {
  "kernelspec": {
   "display_name": "Python 3 (ipykernel)",
   "language": "python",
   "name": "python3"
  },
  "language_info": {
   "codemirror_mode": {
    "name": "ipython",
    "version": 3
   },
   "file_extension": ".py",
   "mimetype": "text/x-python",
   "name": "python",
   "nbconvert_exporter": "python",
   "pygments_lexer": "ipython3",
   "version": "3.11.7"
  }
 },
 "nbformat": 4,
 "nbformat_minor": 5
}
