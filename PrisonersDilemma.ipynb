{
 "cells": [
  {
   "cell_type": "code",
   "execution_count": 167,
   "id": "0f314e07-fa23-44e7-b35e-368f61f35be4",
   "metadata": {},
   "outputs": [],
   "source": [
    "import matplotlib.pyplot as plt\n",
    "import numpy as np\n",
    "import numpy.random as random"
   ]
  },
  {
   "cell_type": "code",
   "execution_count": 169,
   "id": "f1d2b1fb-9a85-4058-a257-ae5ad4533af3",
   "metadata": {},
   "outputs": [],
   "source": [
    "# Constants:\n",
    "COOP = 1\n",
    "DEF = 0\n",
    "T = 5 \n",
    "R = 3 \n",
    "P = 2 \n",
    "S = 1 \n",
    "\n",
    "def distributePrize(me, them):\n",
    "    if me == them == COOP:\n",
    "        return R\n",
    "    if (me == COOP) and (them == DEF):\n",
    "        return S\n",
    "    if (me == DEF) and (them == COOP):\n",
    "        return T\n",
    "    return P"
   ]
  },
  {
   "cell_type": "markdown",
   "id": "47661970-6309-4fe0-b5bb-1cb2a8aada68",
   "metadata": {},
   "source": [
    "## Rules:\n",
    "### Cooperate Unconditionally (Cu)\n",
    "Always cooperate\n",
    "### Defect Unconditionally (Du)\n",
    "Always defect\n",
    "### Rand\n",
    "Random choice\n",
    "### Cooperate probability (Cp)\n",
    "Cooperate a percentage of the time\n",
    "### Tit for tat (TFT)\n",
    "Starts with cooperate, then copies other players previous move\n",
    "### Suspicious TFT (STFT)\n",
    "TFT but starts with defect\n",
    "### Gradual TFT (GrdTFT)\n",
    "TFT, but every time they defect you defect, and if they defect multiple times you follow with a chain of defections equal to the number of times they defected. After this chain is finished, cooperate twice in a row as an apology"
   ]
  },
  {
   "cell_type": "code",
   "execution_count": 188,
   "id": "49cce13d-db89-4515-84bc-cb27eed09009",
   "metadata": {},
   "outputs": [],
   "source": [
    "class Agent:\n",
    "    def __init__(self):\n",
    "        self.score = 0\n",
    "        self.past = []\n",
    "        self.againstAgentScore = {}\n",
    "        self.againstAgentWins = {}\n",
    "    \n",
    "    def reset(self):\n",
    "        self.score = 0\n",
    "    \n",
    "    def playMove(self, them, rn):\n",
    "        return self.rule(them, rn)\n",
    "\n",
    "    def addScore(self, result):\n",
    "        self.score += result\n",
    "\n",
    "    def getScore(self):\n",
    "        return self.score\n",
    "\n",
    "    def finishGame(self, score, outcome, enemy):\n",
    "        # Outcome == 1 if won, 0 if lost\n",
    "        self.againstAgentScore[enemy] = self.againstAgentScore.get(enemy, 0) + score\n",
    "        self.againstAgentWins[enemy] = self.againstAgentWins.get(enemy, 0) + outcome\n",
    "\n",
    "class Cu(Agent):\n",
    "    def rule(self, them, rn):\n",
    "        return COOP\n",
    "    def __repr__(self):\n",
    "        return \"Cooperate unconditionally\"\n",
    "\n",
    "class Du(Agent):\n",
    "    def rule(self, them, rn):\n",
    "        return DEF\n",
    "    def __repr__(self):\n",
    "        return \"Defect unconditionally\"\n",
    "\n",
    "class Rand(Agent):\n",
    "    def rule(self, them, rn):\n",
    "        return random.randint(0,2)\n",
    "    def __repr__(self):\n",
    "        return \"Random\"\n",
    "\n",
    "class Cp(Agent):\n",
    "    def rule(self, them, rn):\n",
    "        if random.rand() >= .75:\n",
    "            return COOP\n",
    "        return DEF\n",
    "    def __repr__(self):\n",
    "        return \"Cooperate probabilistically\"\n",
    "\n",
    "class TFT(Agent):\n",
    "    def rule(self, them, rn):\n",
    "        if rn == 0: return COOP\n",
    "        else: return them[-1]\n",
    "    def __repr__(self):\n",
    "        return \"Tit for Tat\"\n",
    "\n",
    "class STFT(Agent):\n",
    "    def rule(self, them, rn):\n",
    "        if rn == 0: return DEF\n",
    "        return them[-1]\n",
    "    def __repr__(self):\n",
    "        return \"Suspicious Tit for Tat\""
   ]
  },
  {
   "cell_type": "code",
   "execution_count": 214,
   "id": "5dbbe2f2-dfb8-4923-91c0-d0bcf91bac1b",
   "metadata": {},
   "outputs": [],
   "source": [
    "class Arbiter:\n",
    "    # Manages games between two agents\n",
    "    def __init__(self, rounds):\n",
    "        self.rounds = rounds\n",
    "        self.overallscores = {}\n",
    "        self.wins = {}\n",
    "        self.agents = {}\n",
    "\n",
    "    def playNMatches(self, a1, a2, N):\n",
    "        self.agents.update({a1:a1})\n",
    "        self.agents.update({a2:a2})\n",
    "        for _ in range(N):\n",
    "            self.playMatch(a1, a2)\n",
    "    \n",
    "    def playMatch(self, a1, a2):\n",
    "        a1past = []\n",
    "        a2past = []\n",
    "\n",
    "        for n in range(self.rounds):\n",
    "            a1past, a2past = self.playOneGame(a1, a1past, a2, a2past, n)\n",
    "\n",
    "        a1score = a1.getScore()\n",
    "        a2score = a2.getScore()\n",
    "        self.overallscores[a1] = self.overallscores.get(a1, 0) + a1score\n",
    "        self.overallscores[a2] = self.overallscores.get(a2, 0) + a2score\n",
    "\n",
    "        a1win, a2win = 0, 0\n",
    "        if a1score > a2score: a1win = 1\n",
    "        else: a2win = 1\n",
    "        self.wins[a1] = self.wins.get(a1, 0) + a1win\n",
    "        self.wins[a2] = self.wins.get(a2, 0) + a2win\n",
    "        a1.finishGame(a1score, a1win, a2)\n",
    "        a2.finishGame(a2score, a2win, a1)\n",
    "        \n",
    "    def playOneGame(self, a1, a1past, a2, a2past, roundnum):\n",
    "        m1 = a1.rule(a2past, roundnum)\n",
    "        m2 = a2.rule(a1past, roundnum)\n",
    "        a1past.append(m1)\n",
    "        a2past.append(m2)\n",
    "        a1.addScore(distributePrize(m1, m2))\n",
    "        a2.addScore(distributePrize(m2, m1))\n",
    "        return a1past, a2past\n",
    "\n",
    "    def displayScores(self):\n",
    "        print(\"Overall Scores: \",self.overallscores)\n",
    "        for agent in self.agents:\n",
    "            print(f\"Agent {agent} score {self.overallscores[agent]}, broken up as: {agent.againstAgentScore}\")\n",
    "        print(\"Wins:\", self.wins)"
   ]
  },
  {
   "cell_type": "code",
   "execution_count": 308,
   "id": "d9c7d422-1450-43dd-af90-61e317632f77",
   "metadata": {},
   "outputs": [],
   "source": [
    "a1 = TFT()\n",
    "a2 = Du()\n",
    "a3 = Rand()\n",
    "a4 = Cp()\n",
    "arb = Arbiter(1000)\n",
    "\n",
    "arb.playNMatches(a1, a2, 20)\n",
    "arb.playNMatches(a1, a3, 20)\n",
    "arb.playNMatches(a1, a4, 20)\n",
    "arb.playNMatches(a2, a3, 20)\n",
    "arb.playNMatches(a2, a4, 20)\n",
    "arb.playNMatches(a3, a4, 20)\n",
    "#arb.displayScores()"
   ]
  },
  {
   "cell_type": "code",
   "execution_count": 320,
   "id": "382b68e1-5252-4356-8724-e8094653ea55",
   "metadata": {},
   "outputs": [
    {
     "name": "stdout",
     "output_type": "stream",
     "text": [
      "4318656.5\n",
      "[-107133.5, 412595.5, -166942.5, -138519.5]\n",
      "[4211523, 4731252, 4151714, 4180137]\n"
     ]
    },
    {
     "data": {
      "text/plain": [
       "<matplotlib.colorbar.Colorbar at 0x30ab24390>"
      ]
     },
     "execution_count": 320,
     "metadata": {},
     "output_type": "execute_result"
    },
    {
     "data": {
      "image/png": "[encoded data removed]",
      "text/plain": [
       "<Figure size 640x480 with 2 Axes>"
      ]
     },
     "metadata": {},
     "output_type": "display_data"
    }
   ],
   "source": [
    "agents = [a1,a2,a3,a4]\n",
    "scoreData = []\n",
    "rawData = []\n",
    "for agent in agents:\n",
    "    rawData.append(arb.overallscores[agent])\n",
    "average = np.average(rawData)\n",
    "for score in rawData:\n",
    "    scoreData.append((score-average))\n",
    "print(average)\n",
    "print(scoreData)\n",
    "print(rawData)\n",
    "grid = np.zeros((4,4))\n",
    "grid[0,0] = scoreData[0]\n",
    "grid[1,1] = scoreData[1]\n",
    "grid[2,2] = scoreData[2]\n",
    "grid[3,3] = scoreData[3]\n",
    "plt.imshow(grid)\n",
    "plt.colorbar()"
   ]
  },
  {
   "cell_type": "code",
   "execution_count": null,
   "id": "452d5c94-f62d-479d-90c4-c1d5242a50f0",
   "metadata": {},
   "outputs": [],
   "source": []
  }
 ],
 "metadata": {
  "kernelspec": {
   "display_name": "Python 3 (ipykernel)",
   "language": "python",
   "name": "python3"
  },
  "language_info": {
   "codemirror_mode": {
    "name": "ipython",
    "version": 3
   },
   "file_extension": ".py",
   "mimetype": "text/x-python",
   "name": "python",
   "nbconvert_exporter": "python",
   "pygments_lexer": "ipython3",
   "version": "3.11.7"
  }
 },
 "nbformat": 4,
 "nbformat_minor": 5
}
